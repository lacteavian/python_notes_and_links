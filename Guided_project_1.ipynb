{
  "cells": [
    {
      "cell_type": "markdown",
      "metadata": {
        "id": "view-in-github",
        "colab_type": "text"
      },
      "source": [
        "<a href=\"https://colab.research.google.com/github/lacteavian/python_notes_and_links/blob/main/Guided_project_1.ipynb\" target=\"_parent\"><img src=\"https://colab.research.google.com/assets/colab-badge.svg\" alt=\"Open In Colab\"/></a>"
      ]
    },
    {
      "cell_type": "markdown",
      "metadata": {
        "id": "EEL9To4ip-D1"
      },
      "source": [
        "### Equipment starter pack\n",
        "The HR department asks you to list the items you would need to improve your work efficiency\n",
        "\n",
        "Mandatory:\n",
        "* Laptop\n",
        "* Headset\n",
        "* Second monitor\n",
        "\n",
        "Optional:\n",
        "* Mousepad\n",
        "* USB drive\n",
        "* External drive\n",
        "\n",
        "\n",
        "📌 Create a shopping list that contains items above and print it."
      ]
    },
    {
      "cell_type": "code",
      "execution_count": null,
      "metadata": {
        "id": "fPFBLDyqp-D2"
      },
      "outputs": [],
      "source": [
        "#Create the item_list\n",
        "item_list = [\"Laptop\",\"Headset\",\"Second Monitor\",\"Mousepad\",\"Usb Drive\",\"External Drive\"]"
      ]
    },
    {
      "cell_type": "code",
      "execution_count": null,
      "metadata": {
        "id": "358R_CN5U2-J",
        "colab": {
          "base_uri": "https://localhost:8080/"
        },
        "outputId": "5e652fc2-3a4a-47b7-85d7-1525d0f6a217"
      },
      "outputs": [
        {
          "output_type": "stream",
          "name": "stdout",
          "text": [
            "['Laptop', 'Headset', 'Second Monitor', 'Mousepad', 'Usb Drive', 'External Drive']\n"
          ]
        }
      ],
      "source": [
        "#Print the list\n",
        "print(item_list)"
      ]
    },
    {
      "cell_type": "markdown",
      "metadata": {
        "id": "5keEWjCyp-D2"
      },
      "source": [
        "####What is mandatory and what is optional?\n",
        "\n",
        "📌 Use list slicing to devide your list in two list: 'mandatory_item_list' and 'optional_item_list' and print both to the screen."
      ]
    },
    {
      "cell_type": "code",
      "execution_count": null,
      "metadata": {
        "id": "E6ewuDYZp-D2"
      },
      "outputs": [],
      "source": [
        "#Use list slicing to divide the mandatory items\n",
        "mandatory_item_list = item_list[0:3]\n",
        "optional_item_list = item_list[3:]\n"
      ]
    },
    {
      "cell_type": "code",
      "execution_count": null,
      "metadata": {
        "id": "hOmkym01RGEL"
      },
      "outputs": [],
      "source": [
        "#Use list slicing to divide the optional items\n"
      ]
    },
    {
      "cell_type": "code",
      "execution_count": null,
      "metadata": {
        "id": "xsVv1_msVE1_",
        "colab": {
          "base_uri": "https://localhost:8080/"
        },
        "outputId": "b30235a9-34b8-408f-baa0-baa83e5ba296"
      },
      "outputs": [
        {
          "output_type": "stream",
          "name": "stdout",
          "text": [
            "['Laptop', 'Headset', 'Second Monitor']\n",
            "['Mousepad', 'Usb Drive', 'External Drive']\n"
          ]
        }
      ],
      "source": [
        "#Print both to the screen\n",
        "print(mandatory_item_list)\n",
        "print(optional_item_list)"
      ]
    },
    {
      "cell_type": "markdown",
      "metadata": {
        "id": "s_M1Q93wp-D3"
      },
      "source": [
        "#### Go Shopping\n",
        "Next, you will have to go and purchase these items, the finance department confirmed a budget of $5000.\n",
        "\n",
        "📌 Assign 5000 to a variable called limit, so you know how much you can spend."
      ]
    },
    {
      "cell_type": "code",
      "execution_count": null,
      "metadata": {
        "id": "nCmpm0oqp-D3"
      },
      "outputs": [],
      "source": [
        "#Assign the spending limit value to a variable called limit\n",
        "limit=5000"
      ]
    },
    {
      "cell_type": "markdown",
      "metadata": {
        "id": "VwbEEymVp-D3"
      },
      "source": [
        "####Price dictionary\n",
        "\n",
        "Before you start shopping yo need to find the best items that you can buy within the company budget. \n",
        "\n",
        "📌 Prepare a dictionary called “price_sheet” that includes the items as keys and the prices as values.  \n",
        " "
      ]
    },
    {
      "cell_type": "code",
      "execution_count": null,
      "metadata": {
        "id": "9o9n9Ag-p-D3",
        "colab": {
          "base_uri": "https://localhost:8080/"
        },
        "outputId": "35ecb64a-6c7e-442c-a260-af1692423896"
      },
      "outputs": [
        {
          "output_type": "stream",
          "name": "stdout",
          "text": [
            "2000\n"
          ]
        }
      ],
      "source": [
        "#Create a dictionary that contains each item and its price\n",
        "\n",
        "price_sheet = {\n",
        "    \"Laptop\":2000,\n",
        "    \"Headset\":500,\n",
        "    \"Second Monitor\":1000,\n",
        "    \"Mousepad\":100,\n",
        "    \"Usb Drive\":75,\n",
        "    \"External Drive\":200\n",
        "}\n",
        "print(price_sheet[\"Laptop\"])"
      ]
    },
    {
      "cell_type": "markdown",
      "metadata": {
        "id": "rUYivBVEBhCv"
      },
      "source": [
        "####Shopping functions\n",
        "\n",
        "You need to define three functions that will help you during shopping.\n",
        "\n",
        "📌 First, create an empty list that  will be your shopping cart. Here you will add the items you need to purchase.\n",
        "\n",
        "1. Define a function for both adding items to the cart and removing them from the item_list.\n",
        "\n",
        "📌 The \"add_to_cart\" function should take the item name and the quantity to buy as an argument. \n",
        "\n",
        "2. Define a function that will create an invoice. \n",
        "\n",
        "📌 The \"create_invoice\" function should calculate the taxes of each item (18%) and add it to the total amount.\n",
        "\n",
        "3. Define a function for the checkout. \n",
        "\n",
        "📌 The \"checkout\" function should subtract the total amount from the budget and print a statement to inform if the payment was successful. "
      ]
    },
    {
      "cell_type": "code",
      "execution_count": null,
      "metadata": {
        "id": "dBNZ2ZdkGHUe"
      },
      "outputs": [],
      "source": [
        "#Initialize the cart list\n",
        "cart=[]"
      ]
    },
    {
      "cell_type": "code",
      "execution_count": null,
      "metadata": {
        "id": "HH26hHHFGKPJ"
      },
      "outputs": [],
      "source": [
        "#Define the \"add_to_cart\" function\n",
        "def add_to_cart(item,quantity):\n",
        "  cart.append((item,quantity))\n",
        "  # item_list.remove(item)"
      ]
    },
    {
      "cell_type": "code",
      "execution_count": null,
      "metadata": {
        "id": "TUmNr4xVGQdm"
      },
      "outputs": [],
      "source": [
        "#Define the \"create_invoice\" function\n",
        "def create_invoice():\n",
        "  total_amount_include_tax=0\n",
        "  for item, quantity in cart:\n",
        "    price= price_sheet[item]\n",
        "    total= (price+price*0.18)*quantity\n",
        "    total_amount_include_tax+=total\n",
        "    print(\"item:\", item, \"\\t\", \"Price:\", price, \"\\t\", \"Quantity:\", quantity, \"\\t\", \"Total:\", total, \"\\n\")\n",
        "  print(\"total amount include taxes:\", \"\\t\", total_amount_include_tax)\n",
        "  return total_amount_include_tax\n",
        "  \n",
        "  \n"
      ]
    },
    {
      "cell_type": "code",
      "execution_count": null,
      "metadata": {
        "id": "iUlKiXgMGdIk"
      },
      "outputs": [],
      "source": [
        "#Define the \"checkout\" function\n",
        "def checkout():\n",
        "  global limit\n",
        "  total_amount = create_invoice()\n",
        "  if limit==0:\n",
        "    print(\"you dont have any budget\")\n",
        "  elif total_amount > limit:\n",
        "    print(\"the amount you have to pay is above the spending list. You have to drop some items.\")\n",
        "  else:\n",
        "    limit -= total_amount\n",
        "    print(f\"The total amount include taxes you've paid is {total_amount}. You have {limit}\")"
      ]
    },
    {
      "cell_type": "markdown",
      "metadata": {
        "id": "2IFUlu0yB0In"
      },
      "source": [
        "Let's shop!"
      ]
    },
    {
      "cell_type": "code",
      "execution_count": null,
      "metadata": {
        "id": "FDO7CRJTWPg7",
        "colab": {
          "base_uri": "https://localhost:8080/"
        },
        "outputId": "f8bf2871-4cb5-4151-ecbb-b1b8a411a3ea"
      },
      "outputs": [
        {
          "output_type": "stream",
          "name": "stdout",
          "text": [
            "item: Laptop \t Price: 2000 \t Quantity: 1 \t Total: 2360.0 \n",
            "\n",
            "item: Headset \t Price: 500 \t Quantity: 1 \t Total: 590.0 \n",
            "\n",
            "item: Second Monitor \t Price: 1000 \t Quantity: 1 \t Total: 1180.0 \n",
            "\n",
            "item: Mousepad \t Price: 100 \t Quantity: 1 \t Total: 118.0 \n",
            "\n",
            "item: Usb Drive \t Price: 75 \t Quantity: 2 \t Total: 177.0 \n",
            "\n",
            "item: External Drive \t Price: 200 \t Quantity: 3 \t Total: 708.0 \n",
            "\n",
            "total amount include taxes: \t 5133.0\n",
            "the amount you have to pay is above the spending list. You have to drop some items.\n"
          ]
        }
      ],
      "source": [
        "#Call the \"add_to_cart\" function for each item\n",
        " \n",
        "#Add first item to cart\n",
        "add_to_cart(\"Laptop\",1)\n",
        "#Add second item to cart\n",
        "add_to_cart(\"Headset\",1)\n",
        "#Add third item to cart\n",
        "add_to_cart(\"Second Monitor\",1)\n",
        "#Add fourth item to cart\n",
        "add_to_cart(\"Mousepad\",1)\n",
        "#Add fifth item to cart\n",
        "add_to_cart(\"Usb Drive\",2) \n",
        "#Add last item to cart\n",
        "add_to_cart(\"External Drive\",3)\n",
        "\n",
        "\n",
        "#Call the create \"checkout\" function to pay for all your items \n",
        "checkout()"
      ]
    },
    {
      "cell_type": "markdown",
      "metadata": {
        "id": "ZL-r2x_xKixg"
      },
      "source": [
        "###Game Night\n",
        "\n",
        "You are back at the office and the HR department organizes a welcome party for new employees. \n",
        "\n",
        "You decide to create a Rock-Paper-Scissor game. \n",
        "\n",
        "📌 Create a Rock-Paper-Scissor game in which the user plays against the computer. The player will choose one of the actions, and the computer will choose its action randomly.\n"
      ]
    },
    {
      "cell_type": "code",
      "execution_count": 1,
      "metadata": {
        "id": "qzD5pxBTgcFb"
      },
      "outputs": [],
      "source": [
        "#Import the random library\n",
        "import random"
      ]
    },
    {
      "cell_type": "code",
      "execution_count": 6,
      "metadata": {
        "id": "oJv-ihLAgcRo"
      },
      "outputs": [],
      "source": [
        "#create a list containing the three actions of the game.\n",
        "action_list = [\"rock\",\"paper\",\"scissors\"]"
      ]
    },
    {
      "cell_type": "code",
      "execution_count": 7,
      "metadata": {
        "id": "DNUa_9afWqMd",
        "colab": {
          "base_uri": "https://localhost:8080/"
        },
        "outputId": "5da25e34-6e5c-46d2-8b3c-56b975c4fe23"
      },
      "outputs": [
        {
          "output_type": "stream",
          "name": "stdout",
          "text": [
            "How many rounds do you want to play? Please enter a number here:3\n",
            "Round number:  1\n",
            "Please choose your action: scissors\n",
            "computer choice is  rock\n",
            "player choice is scissors\n",
            "Winner is Computer!\n",
            "Round number:  2\n",
            "Please choose your action: rock\n",
            "computer choice is  scissors\n",
            "player choice is rock\n",
            "Winner is Player!\n",
            "Round number:  3\n",
            "Please choose your action: paper\n",
            "computer choice is  paper\n",
            "player choice is paper\n",
            "Tie!\n",
            "There is no winner. Tie! 1 : 1\n"
          ]
        }
      ],
      "source": [
        "#Set the scores of players to 0\n",
        "computer_score = 0\n",
        "player_score = 0\n",
        "\n",
        "\n",
        "#Ask the user how many rounds they want to play\n",
        "total_rounds = int(input(\"How many rounds do you want to play? Please enter a number here:\"))\n",
        "\n",
        "# Add a round_counter that is 0 at the beginning\n",
        "round_counter = 0\n",
        "\n",
        "#Write a while loop and put the game inside\n",
        "while True:\n",
        "\n",
        "  #Increase round_counter by and print it\n",
        "  round_counter += 1\n",
        "  print(\"Round number: \", round_counter)\n",
        "\n",
        "\n",
        "  #Select a random action for computer\n",
        "  computer_choice = random.choice(action_list)\n",
        "\n",
        "  #Ask player to choose an action\n",
        "  player_choice = input(\"Please choose your action: \")\n",
        "\n",
        "  #Print the players choices\n",
        "  print(\"computer choice is \", computer_choice)\n",
        "  print(\"player choice is\", player_choice)\n",
        "\n",
        "\n",
        "  #tie condition\n",
        "  if computer_choice == player_choice:\n",
        "    print(\"Tie!\")\n",
        "  \n",
        "\n",
        "\n",
        "  #Remaining conditions\n",
        "  elif computer_choice == \"paper\":\n",
        "    if player_choice == \"rock\":\n",
        "      print(\"Winner is Computer!\")\n",
        "      computer_score += 1\n",
        "    else:\n",
        "      print(\"Winner is Player!\")\n",
        "      player_score += 1\n",
        "  elif computer_choice == \"rock\":\n",
        "    if player_choice == \"scissors\":\n",
        "      print(\"Winner is Computer!\")\n",
        "      computer_score += 1\n",
        "    else:\n",
        "      print(\"Winner is Player!\")\n",
        "      player_score += 1\n",
        "  elif computer_choice == \"scissors\":\n",
        "    if player_choice == \"paper\":\n",
        "      print(\"Winner is Computer!\")\n",
        "      computer_score += 1\n",
        "    else:\n",
        "      print(\"Winner is Player!\")\n",
        "      player_score += 1\n",
        "\n",
        "  #Stop the while loop if the round_counter equals the number of total rounds\n",
        "  if round_counter == total_rounds:\n",
        "    break\n",
        "\n",
        "\n",
        "#Print the outcome of the game by using conditional statements\n",
        "if computer_score > player_score:\n",
        "  print(\"Computer won with score\", player_score,\":\", computer_score)\n",
        "elif computer_score == player_score:\n",
        "  print(\"There is no winner. Tie!\", player_score, \":\", computer_score)\n",
        "else:\n",
        "  print(\"Player won with score\", player_score,\":\", computer_score)\n"
      ]
    },
    {
      "cell_type": "markdown",
      "metadata": {
        "id": "jdrYN0Xgp-D6"
      },
      "source": [
        "# Your first task \n",
        "\n",
        "Rachel asks you to write a program to track the name and revenue each employee brings.  \n",
        "\n",
        "* Create the \"salesperson_revenue\" dictionary to see the employee name as a key and the revenue as a value.\n",
        "\n",
        "  📌 Every employee starts with 0 revenue.\n",
        "* Define the \"enter_revenue\" function. \n",
        "\n",
        "  📌 The function takes the name and revenue as an argument and updates the salesperson_revenue dictionary.\n"
      ]
    },
    {
      "cell_type": "code",
      "execution_count": 15,
      "metadata": {
        "id": "3vzRo7hyMRv2"
      },
      "outputs": [],
      "source": [
        "#Create salesperson_revenue dictionary\n",
        "salesperson_revenue = {}\n",
        "\n"
      ]
    },
    {
      "cell_type": "code",
      "execution_count": 16,
      "metadata": {
        "id": "m-8IozBwMRzM"
      },
      "outputs": [],
      "source": [
        "#Define enter_revenue function\n",
        "def enter_revenue(name,revenue):\n",
        "  salesperson_revenue[name]=revenue\n",
        "\n"
      ]
    },
    {
      "cell_type": "markdown",
      "metadata": {
        "id": "UnTGSoNTi58u"
      },
      "source": [
        "####Try out the functions\n",
        "* In a while loop ask the user to give the name of the employee and for the revenue \n",
        "\n",
        "  📌 If the user enters “quit” the loop should break.\n",
        "\n",
        "After that, print out the salesperson_revenue dictionary.\n"
      ]
    },
    {
      "cell_type": "code",
      "execution_count": 17,
      "metadata": {
        "id": "2E549VvFXNi6",
        "colab": {
          "base_uri": "https://localhost:8080/"
        },
        "outputId": "e1353f46-0bc8-402f-f8f4-8cb4515543f5"
      },
      "outputs": [
        {
          "name": "stdout",
          "output_type": "stream",
          "text": [
            "what is the name of salesperson?:ahmet\n",
            "salesperson's revenue is:500\n",
            "what is the name of salesperson?:james\n",
            "salesperson's revenue is:700\n",
            "what is the name of salesperson?:ali\n",
            "salesperson's revenue is:470\n",
            "what is the name of salesperson?:şerbet\n",
            "salesperson's revenue is:294\n",
            "what is the name of salesperson?:quit\n"
          ]
        }
      ],
      "source": [
        "#Asking user employee name as input\n",
        "while True:\n",
        "  name = input(\"what is the name of salesperson?:\")\n",
        "  if name == \"quit\":\n",
        "    break\n",
        "  revenue = int(input(\"salesperson's revenue is:\"))\n",
        "  enter_revenue(name,revenue)\n",
        "  \n"
      ]
    },
    {
      "cell_type": "code",
      "execution_count": 18,
      "metadata": {
        "id": "OAvl9rgOXPe6",
        "colab": {
          "base_uri": "https://localhost:8080/"
        },
        "outputId": "9208060d-6418-48fa-85a7-35dfcb907af8"
      },
      "outputs": [
        {
          "output_type": "stream",
          "name": "stdout",
          "text": [
            "{'ahmet': 500, 'james': 700, 'ali': 470, 'şerbet': 294}\n"
          ]
        }
      ],
      "source": [
        "#Print the salesperson_revenue dictionary\n",
        "print(salesperson_revenue)"
      ]
    }
  ],
  "metadata": {
    "colab": {
      "provenance": [],
      "include_colab_link": true
    },
    "interpreter": {
      "hash": "c5914ae3790566b9cd0e984a9bdda42a29da8adf046b5ac0173e0d37aacf3dab"
    },
    "kernelspec": {
      "display_name": "Python 3.9.7",
      "language": "python",
      "name": "python3"
    },
    "language_info": {
      "codemirror_mode": {
        "name": "ipython",
        "version": 3
      },
      "file_extension": ".py",
      "mimetype": "text/x-python",
      "name": "python",
      "nbconvert_exporter": "python",
      "pygments_lexer": "ipython3",
      "version": "3.9.7"
    },
    "orig_nbformat": 4
  },
  "nbformat": 4,
  "nbformat_minor": 0
}